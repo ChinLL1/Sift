{
 "cells": [
  {
   "cell_type": "markdown",
   "metadata": {},
   "source": [
    "## Imports and Setup\n",
    "\n"
   ]
  },
  {
   "cell_type": "code",
   "execution_count": 2,
   "metadata": {},
   "outputs": [],
   "source": [
    "import pandas as pd"
   ]
  },
  {
   "cell_type": "code",
   "execution_count": 3,
   "metadata": {},
   "outputs": [
    {
     "name": "stderr",
     "output_type": "stream",
     "text": [
      "C:\\Users\\CLL\\AppData\\Local\\Temp\\ipykernel_19860\\3096603328.py:1: DtypeWarning: Columns (4,5,10,11,13,16,26,30,31,32,33,34,35,36,37,38,40,41,42,43,46,47,49,51,52,53,54,55,56,59,60,61,62,64,65,66,78,79,80,81,82,83,84,85,86,87,88,89,90,91,92,93,94,95,96,97,98,99,100,101,102,103,104,105,106,107,108,109,110,111,112,113,114,115,116,117,118,119,120,121,122,123) have mixed types. Specify dtype option on import or set low_memory=False.\n",
      "  df = pd.read_csv(\"../data/scraped_reviews.csv\")\n"
     ]
    },
    {
     "data": {
      "text/plain": [
       "Index(['address', 'categories/0', 'categories/1', 'categories/2',\n",
       "       'categories/3', 'categories/4', 'categoryName', 'cid', 'city',\n",
       "       'countryCode',\n",
       "       ...\n",
       "       'state', 'street', 'temporarilyClosed', 'text', 'textTranslated',\n",
       "       'title', 'totalScore', 'translatedLanguage', 'url', 'visitedIn'],\n",
       "      dtype='object', length=144)"
      ]
     },
     "execution_count": 3,
     "metadata": {},
     "output_type": "execute_result"
    }
   ],
   "source": [
    "df = pd.read_csv(\"../data/scraped_reviews.csv\")\n",
    "\n",
    "df.columns"
   ]
  },
  {
   "cell_type": "markdown",
   "metadata": {},
   "source": [
    "We will be removing the unnecessary columns"
   ]
  },
  {
   "cell_type": "code",
   "execution_count": 4,
   "metadata": {},
   "outputs": [],
   "source": [
    "cleaned_df = df.drop(labels=['cid',\n",
    " 'city',\n",
    " 'countryCode',\n",
    " 'error',\n",
    " 'errorDescription',\n",
    " 'fid',\n",
    " 'hotelStars',\n",
    " 'imageUrl',\n",
    " 'isAdvertisement',\n",
    " 'isLocalGuide',\n",
    " 'language',\n",
    " 'likesCount',\n",
    " 'location/lat',\n",
    " 'location/lng',\n",
    " 'neighborhood',\n",
    " 'originalLanguage',\n",
    " 'permanentlyClosed',\n",
    " 'placeId',\n",
    " 'postalCode',\n",
    " 'price',\n",
    " 'publishAt',\n",
    " 'rating',\n",
    " 'responseFromOwnerDate',\n",
    " 'responseFromOwnerText',\n",
    " 'reviewContext/Dietary restrictions',\n",
    " 'reviewContext/Dog-friendliness',\n",
    " 'reviewContext/Food & drinks',\n",
    " 'reviewContext/Group size',\n",
    " 'reviewContext/Hotel highlights',\n",
    " 'reviewContext/Kid-friendliness',\n",
    " 'reviewContext/Meal type',\n",
    " 'reviewContext/Nearby activities',\n",
    " 'reviewContext/Noise level',\n",
    " 'reviewContext/Noteworthy details',\n",
    " 'reviewContext/Parking',\n",
    " 'reviewContext/Parking options',\n",
    " 'reviewContext/Parking space',\n",
    " 'reviewContext/Picnic area',\n",
    " 'reviewContext/Playground',\n",
    " 'reviewContext/Price per person',\n",
    " 'reviewContext/Recommendation for vegetarians',\n",
    " 'reviewContext/Recommended dishes',\n",
    " 'reviewContext/Reservation',\n",
    " 'reviewContext/Reservation recommended',\n",
    " 'reviewContext/Restrooms',\n",
    " 'reviewContext/Rooms',\n",
    " 'reviewContext/Safety',\n",
    " 'reviewContext/Seating type',\n",
    " 'reviewContext/Service',\n",
    " 'reviewContext/Special events',\n",
    " 'reviewContext/Special offers',\n",
    " 'reviewContext/Travel group',\n",
    " 'reviewContext/Trip type',\n",
    " 'reviewContext/Vegetarian offerings',\n",
    " 'reviewContext/Vegetarian options',\n",
    " 'reviewContext/Visited on',\n",
    " 'reviewContext/Wait time',\n",
    " 'reviewContext/Walkability',\n",
    " 'reviewContext/Wheelchair accessibility',\n",
    " 'reviewDetailedRating/Atmosphere',\n",
    " 'reviewDetailedRating/Food',\n",
    " 'reviewDetailedRating/Location',\n",
    " 'reviewDetailedRating/Rooms',\n",
    " 'reviewDetailedRating/Service',\n",
    " 'reviewId',\n",
    " 'reviewImageUrls/0',\n",
    " 'reviewImageUrls/1',\n",
    " 'reviewImageUrls/2',\n",
    " 'reviewImageUrls/3',\n",
    " 'reviewImageUrls/4',\n",
    " 'reviewImageUrls/5',\n",
    " 'reviewImageUrls/6',\n",
    " 'reviewImageUrls/7',\n",
    " 'reviewImageUrls/8',\n",
    " 'reviewImageUrls/9',\n",
    " 'reviewImageUrls/10',\n",
    " 'reviewImageUrls/11',\n",
    " 'reviewImageUrls/12',\n",
    " 'reviewImageUrls/13',\n",
    " 'reviewImageUrls/14',\n",
    " 'reviewImageUrls/15',\n",
    " 'reviewImageUrls/16',\n",
    " 'reviewImageUrls/17',\n",
    " 'reviewImageUrls/18',\n",
    " 'reviewImageUrls/19',\n",
    " 'reviewImageUrls/20',\n",
    " 'reviewImageUrls/21',\n",
    " 'reviewImageUrls/22',\n",
    " 'reviewImageUrls/23',\n",
    " 'reviewImageUrls/24',\n",
    " 'reviewImageUrls/25',\n",
    " 'reviewImageUrls/26',\n",
    " 'reviewImageUrls/27',\n",
    " 'reviewImageUrls/28',\n",
    " 'reviewImageUrls/29',\n",
    " 'reviewImageUrls/30',\n",
    " 'reviewImageUrls/31',\n",
    " 'reviewImageUrls/32',\n",
    " 'reviewImageUrls/33',\n",
    " 'reviewImageUrls/34',\n",
    " 'reviewImageUrls/35',\n",
    " 'reviewImageUrls/36',\n",
    " 'reviewImageUrls/37',\n",
    " 'reviewImageUrls/38',\n",
    " 'reviewImageUrls/39',\n",
    " 'reviewImageUrls/40',\n",
    " 'reviewImageUrls/41',\n",
    " 'reviewImageUrls/42',\n",
    " 'reviewImageUrls/43',\n",
    " 'reviewImageUrls/44',\n",
    " 'reviewImageUrls/45',\n",
    " 'reviewImageUrls/46',\n",
    " 'reviewImageUrls/47',\n",
    " 'reviewImageUrls/48',\n",
    " 'reviewImageUrls/49',\n",
    " 'reviewOrigin',\n",
    " 'reviewUrl',\n",
    " 'reviewerId',\n",
    " 'reviewerNumberOfReviews',\n",
    " 'reviewerPhotoUrl',\n",
    " 'reviewerUrl',\n",
    " 'reviewsCount',\n",
    " 'scrapedAt',\n",
    " 'searchString',\n",
    " 'stars',\n",
    " 'state',\n",
    " 'street',\n",
    " 'temporarilyClosed',\n",
    " 'title',\n",
    " 'totalScore',\n",
    " 'url',\n",
    " 'visitedIn'],axis=1)"
   ]
  },
  {
   "cell_type": "code",
   "execution_count": 5,
   "metadata": {},
   "outputs": [],
   "source": [
    "cleaned_df = cleaned_df.dropna(subset=['text'])"
   ]
  },
  {
   "cell_type": "code",
   "execution_count": 6,
   "metadata": {},
   "outputs": [],
   "source": [
    "# Replace 'text' with 'textTranslated' wherever 'textTranslated' is not NaN\n",
    "cleaned_df['text'] = cleaned_df['textTranslated'].combine_first(cleaned_df['text'])\n",
    "cleaned_df = cleaned_df.drop(columns=['textTranslated'])"
   ]
  },
  {
   "cell_type": "code",
   "execution_count": 7,
   "metadata": {},
   "outputs": [],
   "source": [
    "cleaned_df.to_csv(\"../data/cleaned_scraped_reviews.csv\")"
   ]
  }
 ],
 "metadata": {
  "kernelspec": {
   "display_name": "Python 3",
   "language": "python",
   "name": "python3"
  },
  "language_info": {
   "codemirror_mode": {
    "name": "ipython",
    "version": 3
   },
   "file_extension": ".py",
   "mimetype": "text/x-python",
   "name": "python",
   "nbconvert_exporter": "python",
   "pygments_lexer": "ipython3",
   "version": "3.13.0"
  }
 },
 "nbformat": 4,
 "nbformat_minor": 2
}
